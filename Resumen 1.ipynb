{
 "cells": [
  {
   "cell_type": "markdown",
   "metadata": {},
   "source": [
    "##El lenguage de decodificacion mas popular del mundo\n",
    "\n",
    "\n",
    "En estos ultimos años hemos visto que el lenguage de python ha crecido y sus busquedas por internet han incrementado. Esto se debe a la facilidad que el programa ofrece a sus usuarios; es comodo, facil de entender y hay mucha informacion que en segundos puedes descargar y aplicar a tus programas. Muchas empresas han sido beneficiadas por este tipo de informacion asi como lo son GOOGLE, PIXAR Y SPOTIFY.\n",
    "Sin embargo no nos podemos dejar llevar por las apriencias, pese a que su popularidad ha incrementado no podemos afirmar que va a desplazar a otros lenguages, ya que estos ultimos tienen prioridad por los usuarios y siguen siendo minoria. Sera cuestion de esperar y ver como sigue la tendencia. \n",
    "\n",
    "\n",
    "La informacion se obtuvo de este [link](https://www.economist.com/graphic-detail/2018/07/26/python-is-becoming-the-worlds-most-popular-coding-language)"
   ]
  }
 ],
 "metadata": {
  "kernelspec": {
   "display_name": "Python 3",
   "language": "python",
   "name": "python3"
  },
  "language_info": {
   "codemirror_mode": {
    "name": "ipython",
    "version": 3
   },
   "file_extension": ".py",
   "mimetype": "text/x-python",
   "name": "python",
   "nbconvert_exporter": "python",
   "pygments_lexer": "ipython3",
   "version": "3.7.3"
  }
 },
 "nbformat": 4,
 "nbformat_minor": 2
}
