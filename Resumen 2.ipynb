{
 "cells": [
  {
   "cell_type": "markdown",
   "metadata": {},
   "source": [
    "##Invertir tiempo y dinero en Python\n",
    "\n",
    "La pregunta que todos no hemos hecho es: ¿Que si Python es el candidato de cabecera para nosotros? La respuesta en su mayoria es si. Este programa es tan sencillo que solo necesita de la instalacion ya se puede empezar a utilizar. Gracias a esta facilidad de descarga y enseñanza, las empresas han optado por recurrir a capacitar a sus empeados por los tiempos de aprendizaje rapido. \n",
    "Si bien python parece ser muy complicado para todos nos novatos, despues de practica el usuario se va familiarizando y nos damos cuenta que si vale la pena conquistar un nuevo lenguaje \n",
    "\n",
    "Esta informacion salio de este [link](http://anewdomain.net/spotlight-should-you-invest-in-python-training/)\n",
    "\n",
    "\n"
   ]
  }
 ],
 "metadata": {
  "kernelspec": {
   "display_name": "Python 3",
   "language": "python",
   "name": "python3"
  },
  "language_info": {
   "codemirror_mode": {
    "name": "ipython",
    "version": 3
   },
   "file_extension": ".py",
   "mimetype": "text/x-python",
   "name": "python",
   "nbconvert_exporter": "python",
   "pygments_lexer": "ipython3",
   "version": "3.7.3"
  }
 },
 "nbformat": 4,
 "nbformat_minor": 2
}
